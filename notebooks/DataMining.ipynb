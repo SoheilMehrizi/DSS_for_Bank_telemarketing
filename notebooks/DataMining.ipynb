{
 "cells": [
  {
   "cell_type": "markdown",
   "metadata": {
    "vscode": {
     "languageId": "markdown"
    }
   },
   "source": [
    "# Data Mining\n",
    "\n",
    "This NoteBook is dedicated to:\n",
    "\n",
    "1. Data Cleaning and Preprocessing\n",
    "2. Train and evaluating 4 different data mining models to understand complex patterns within collected data\n",
    "\n",
    "the DM models as one of the critical components of a Decision support system will detect lying patterns and relations within data."
   ]
  },
  {
   "cell_type": "markdown",
   "metadata": {},
   "source": [
    "## Required Packages"
   ]
  },
  {
   "cell_type": "code",
   "execution_count": 1,
   "metadata": {},
   "outputs": [],
   "source": [
    "import sys\n",
    "\n",
    "sys.path.append(r\"h:\\Resume\\Projects\\DataScience\\UCI _ Bank Case Study\\Project\")\n",
    "\n",
    "import pandas as pd\n",
    "import numpy as np\n",
    "\n",
    "import importlib\n",
    "\n",
    "\n",
    "from src.data_preprocessing import process_dataset as prep\n",
    "\n",
    "import src.data_ingestion as load"
   ]
  },
  {
   "cell_type": "markdown",
   "metadata": {},
   "source": [
    "## Data Prepration"
   ]
  },
  {
   "cell_type": "markdown",
   "metadata": {},
   "source": [
    "### Loading the data"
   ]
  },
  {
   "cell_type": "code",
   "execution_count": 2,
   "metadata": {},
   "outputs": [
    {
     "name": "stdout",
     "output_type": "stream",
     "text": [
      "Dataset loaded successfully with 41188 rows and 21 columns.\n",
      "Dataset loaded successfully with 4119 rows and 21 columns.\n"
     ]
    }
   ],
   "source": [
    "df_train = load.load_csv_to_dataframe(file_path = '../data//raw/bank-additional-full.csv' )\n",
    "df_test = load.load_csv_to_dataframe(file_path = '../data/raw/bank-additional.csv' )"
   ]
  },
  {
   "cell_type": "markdown",
   "metadata": {},
   "source": [
    "### Looking at the data composition \n",
    "\n",
    "searching for any harsh anomalies within the data\n"
   ]
  },
  {
   "cell_type": "markdown",
   "metadata": {},
   "source": [
    "From Exploratory data analysis we know that the collected data doesn't show any abnormality ."
   ]
  },
  {
   "cell_type": "markdown",
   "metadata": {},
   "source": [
    "### Data Cleaning\n",
    "* Remove duplicate rows.\n",
    "* Handle missing values.\n",
    "* Correct textual inconsistencies\n",
    "* removing outliers"
   ]
  },
  {
   "cell_type": "markdown",
   "metadata": {},
   "source": [
    "### Data Transformation\n",
    "\n",
    "* convert categorical variable into one_hot vector\n",
    "* data normalization"
   ]
  },
  {
   "cell_type": "code",
   "execution_count": 3,
   "metadata": {},
   "outputs": [
    {
     "name": "stdout",
     "output_type": "stream",
     "text": [
      "<class 'pandas.core.frame.DataFrame'>\n",
      "RangeIndex: 41188 entries, 0 to 41187\n",
      "Data columns (total 21 columns):\n",
      " #   Column          Non-Null Count  Dtype  \n",
      "---  ------          --------------  -----  \n",
      " 0   age             41188 non-null  int64  \n",
      " 1   job             41188 non-null  object \n",
      " 2   marital         41188 non-null  object \n",
      " 3   education       41188 non-null  object \n",
      " 4   default         41188 non-null  object \n",
      " 5   housing         41188 non-null  object \n",
      " 6   loan            41188 non-null  object \n",
      " 7   contact         41188 non-null  object \n",
      " 8   month           41188 non-null  object \n",
      " 9   day_of_week     41188 non-null  object \n",
      " 10  duration        41188 non-null  int64  \n",
      " 11  campaign        41188 non-null  int64  \n",
      " 12  pdays           41188 non-null  int64  \n",
      " 13  previous        41188 non-null  int64  \n",
      " 14  poutcome        41188 non-null  object \n",
      " 15  emp.var.rate    41188 non-null  float64\n",
      " 16  cons.price.idx  41188 non-null  float64\n",
      " 17  cons.conf.idx   41188 non-null  float64\n",
      " 18  euribor3m       41188 non-null  float64\n",
      " 19  nr.employed     41188 non-null  float64\n",
      " 20  y               41188 non-null  object \n",
      "dtypes: float64(5), int64(5), object(11)\n",
      "memory usage: 6.6+ MB\n"
     ]
    }
   ],
   "source": [
    "df_train.info()\n"
   ]
  },
  {
   "cell_type": "code",
   "execution_count": 4,
   "metadata": {},
   "outputs": [],
   "source": [
    "fe_config = config = {\n",
    "        \"pdays\": {\n",
    "            \"new_name\": \"pdays_category\",\n",
    "            \"special\": 999,\n",
    "            \"special_label\": \"never contacted\",\n",
    "            \"bins\": [-1, 1, 14, 30],\n",
    "            \"labels\": ['[0, 1]', '(1, 14]', '(14, 30]']\n",
    "        },\n",
    "        \"age\": {\n",
    "            \"new_name\": \"age_category\",\n",
    "            \"bins\": [0, 30, 50, 100],\n",
    "            \"labels\": ['young', 'middle-aged', 'senior']\n",
    "        },\n",
    "        \"previous\": {\n",
    "            \"new_name\": \"previous_category\",\n",
    "            \"bins\": [-1, 0, 3, 6, np.inf],\n",
    "            \"labels\": ['0', '[1,3]', '[4,6]', '>6']\n",
    "        }\n",
    "    }"
   ]
  },
  {
   "cell_type": "code",
   "execution_count": 5,
   "metadata": {},
   "outputs": [
    {
     "name": "stdout",
     "output_type": "stream",
     "text": [
      "<class 'pandas.core.frame.DataFrame'>\n",
      "RangeIndex: 41176 entries, 0 to 41175\n",
      "Data columns (total 72 columns):\n",
      " #   Column                               Non-Null Count  Dtype  \n",
      "---  ------                               --------------  -----  \n",
      " 0   num__duration                        41176 non-null  float64\n",
      " 1   num__campaign                        41176 non-null  float64\n",
      " 2   num__emp.var.rate                    41176 non-null  float64\n",
      " 3   num__cons.price.idx                  41176 non-null  float64\n",
      " 4   num__cons.conf.idx                   41176 non-null  float64\n",
      " 5   num__euribor3m                       41176 non-null  float64\n",
      " 6   num__nr.employed                     41176 non-null  float64\n",
      " 7   num__y                               41176 non-null  float64\n",
      " 8   cat__job_admin.                      41176 non-null  float64\n",
      " 9   cat__job_blue-collar                 41176 non-null  float64\n",
      " 10  cat__job_entrepreneur                41176 non-null  float64\n",
      " 11  cat__job_housemaid                   41176 non-null  float64\n",
      " 12  cat__job_management                  41176 non-null  float64\n",
      " 13  cat__job_retired                     41176 non-null  float64\n",
      " 14  cat__job_self-employed               41176 non-null  float64\n",
      " 15  cat__job_services                    41176 non-null  float64\n",
      " 16  cat__job_student                     41176 non-null  float64\n",
      " 17  cat__job_technician                  41176 non-null  float64\n",
      " 18  cat__job_unemployed                  41176 non-null  float64\n",
      " 19  cat__job_unknown                     41176 non-null  float64\n",
      " 20  cat__marital_divorced                41176 non-null  float64\n",
      " 21  cat__marital_married                 41176 non-null  float64\n",
      " 22  cat__marital_single                  41176 non-null  float64\n",
      " 23  cat__marital_unknown                 41176 non-null  float64\n",
      " 24  cat__education_basic.4y              41176 non-null  float64\n",
      " 25  cat__education_basic.6y              41176 non-null  float64\n",
      " 26  cat__education_basic.9y              41176 non-null  float64\n",
      " 27  cat__education_high.school           41176 non-null  float64\n",
      " 28  cat__education_illiterate            41176 non-null  float64\n",
      " 29  cat__education_professional.course   41176 non-null  float64\n",
      " 30  cat__education_university.degree     41176 non-null  float64\n",
      " 31  cat__education_unknown               41176 non-null  float64\n",
      " 32  cat__default_no                      41176 non-null  float64\n",
      " 33  cat__default_unknown                 41176 non-null  float64\n",
      " 34  cat__default_yes                     41176 non-null  float64\n",
      " 35  cat__housing_no                      41176 non-null  float64\n",
      " 36  cat__housing_unknown                 41176 non-null  float64\n",
      " 37  cat__housing_yes                     41176 non-null  float64\n",
      " 38  cat__loan_no                         41176 non-null  float64\n",
      " 39  cat__loan_unknown                    41176 non-null  float64\n",
      " 40  cat__loan_yes                        41176 non-null  float64\n",
      " 41  cat__contact_cellular                41176 non-null  float64\n",
      " 42  cat__contact_telephone               41176 non-null  float64\n",
      " 43  cat__month_apr                       41176 non-null  float64\n",
      " 44  cat__month_aug                       41176 non-null  float64\n",
      " 45  cat__month_dec                       41176 non-null  float64\n",
      " 46  cat__month_jul                       41176 non-null  float64\n",
      " 47  cat__month_jun                       41176 non-null  float64\n",
      " 48  cat__month_mar                       41176 non-null  float64\n",
      " 49  cat__month_may                       41176 non-null  float64\n",
      " 50  cat__month_nov                       41176 non-null  float64\n",
      " 51  cat__month_oct                       41176 non-null  float64\n",
      " 52  cat__month_sep                       41176 non-null  float64\n",
      " 53  cat__day_of_week_fri                 41176 non-null  float64\n",
      " 54  cat__day_of_week_mon                 41176 non-null  float64\n",
      " 55  cat__day_of_week_thu                 41176 non-null  float64\n",
      " 56  cat__day_of_week_tue                 41176 non-null  float64\n",
      " 57  cat__day_of_week_wed                 41176 non-null  float64\n",
      " 58  cat__poutcome_failure                41176 non-null  float64\n",
      " 59  cat__poutcome_nonexistent            41176 non-null  float64\n",
      " 60  cat__poutcome_success                41176 non-null  float64\n",
      " 61  cat__pdays_category_(1, 14]          41176 non-null  float64\n",
      " 62  cat__pdays_category_(14, 30]         41176 non-null  float64\n",
      " 63  cat__pdays_category_[0, 1]           41176 non-null  float64\n",
      " 64  cat__pdays_category_never contacted  41176 non-null  float64\n",
      " 65  cat__age_category_middle-aged        41176 non-null  float64\n",
      " 66  cat__age_category_senior             41176 non-null  float64\n",
      " 67  cat__age_category_young              41176 non-null  float64\n",
      " 68  cat__previous_category_0             41176 non-null  float64\n",
      " 69  cat__previous_category_>6            41176 non-null  float64\n",
      " 70  cat__previous_category_[1,3]         41176 non-null  float64\n",
      " 71  cat__previous_category_[4,6]         41176 non-null  float64\n",
      "dtypes: float64(72)\n",
      "memory usage: 22.6 MB\n",
      "None\n"
     ]
    }
   ],
   "source": [
    "# Preprocessing the data\n",
    "data_train_prep = prep(\n",
    "    df_=df_train,\n",
    "    target_column='y',\n",
    "    missing_method='drop',  # or 'fill'\n",
    "    fill_value=None,\n",
    "    fill_method=None,\n",
    "    missing_threshold=0.5,\n",
    "    outlier_removal=False,\n",
    "    add_new_features=True,\n",
    "    fe_config=fe_config,\n",
    "    return_dataframe=True,\n",
    ")\n",
    "\n",
    "print(data_train_prep.info())"
   ]
  },
  {
   "cell_type": "code",
   "execution_count": null,
   "metadata": {},
   "outputs": [],
   "source": []
  },
  {
   "cell_type": "code",
   "execution_count": null,
   "metadata": {},
   "outputs": [],
   "source": []
  }
 ],
 "metadata": {
  "kernelspec": {
   "display_name": "Python_ML (.env)",
   "language": "python",
   "name": "machinelearningenvironment"
  },
  "language_info": {
   "codemirror_mode": {
    "name": "ipython",
    "version": 3
   },
   "file_extension": ".py",
   "mimetype": "text/x-python",
   "name": "python",
   "nbconvert_exporter": "python",
   "pygments_lexer": "ipython3",
   "version": "3.12.5"
  }
 },
 "nbformat": 4,
 "nbformat_minor": 2
}
