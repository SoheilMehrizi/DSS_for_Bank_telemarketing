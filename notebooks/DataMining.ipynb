{
 "cells": [
  {
   "cell_type": "markdown",
   "metadata": {
    "vscode": {
     "languageId": "markdown"
    }
   },
   "source": [
    "# Data Mining\n",
    "\n",
    "This NoteBook is dedicated to:\n",
    "\n",
    "1. Data Cleaning and Preprocessing\n",
    "2. Train and evaluating 4 different data mining models to understand complex patterns within collected data\n",
    "\n",
    "the DM models as one of the critical components of a Decision support system will detect lying patterns and relations within data."
   ]
  },
  {
   "cell_type": "markdown",
   "metadata": {},
   "source": [
    "## Required Packages"
   ]
  },
  {
   "cell_type": "code",
   "execution_count": 1,
   "metadata": {},
   "outputs": [],
   "source": [
    "import sys\n",
    "\n",
    "sys.path.append(r\"h:\\Resume\\Projects\\DataScience\\Banking Telemarketing Decision Support System\\Project\")\n",
    "\n",
    "import pandas as pd\n",
    "import numpy as np\n",
    "\n",
    "import importlib\n",
    "\n",
    "from src.data_preprocessing import process_dataset as prep\n",
    "\n",
    "import src.data_ingestion as load\n",
    "from src.models.model_selection import train_compare_models\n",
    "from configs.config_repository import ConfigRepository"
   ]
  },
  {
   "cell_type": "markdown",
   "metadata": {},
   "source": [
    "## Data Prepration"
   ]
  },
  {
   "cell_type": "markdown",
   "metadata": {},
   "source": [
    "### Loading the data"
   ]
  },
  {
   "cell_type": "code",
   "execution_count": 2,
   "metadata": {},
   "outputs": [
    {
     "name": "stdout",
     "output_type": "stream",
     "text": [
      "Dataset loaded successfully with 45211 rows and 17 columns.\n",
      "Dataset loaded successfully with 4521 rows and 17 columns.\n"
     ]
    }
   ],
   "source": [
    "df_train = load.load_csv_to_dataframe(file_path = '../data//raw/bank-full.csv')\n",
    "df_test = load.load_csv_to_dataframe(file_path = '../data/raw/bank.csv' )"
   ]
  },
  {
   "cell_type": "code",
   "execution_count": 3,
   "metadata": {},
   "outputs": [
    {
     "name": "stdout",
     "output_type": "stream",
     "text": [
      "<class 'pandas.core.frame.DataFrame'>\n",
      "RangeIndex: 45211 entries, 0 to 45210\n",
      "Data columns (total 17 columns):\n",
      " #   Column     Non-Null Count  Dtype \n",
      "---  ------     --------------  ----- \n",
      " 0   age        45211 non-null  int64 \n",
      " 1   job        45211 non-null  object\n",
      " 2   marital    45211 non-null  object\n",
      " 3   education  45211 non-null  object\n",
      " 4   default    45211 non-null  object\n",
      " 5   balance    45211 non-null  int64 \n",
      " 6   housing    45211 non-null  object\n",
      " 7   loan       45211 non-null  object\n",
      " 8   contact    45211 non-null  object\n",
      " 9   day        45211 non-null  int64 \n",
      " 10  month      45211 non-null  object\n",
      " 11  duration   45211 non-null  int64 \n",
      " 12  campaign   45211 non-null  int64 \n",
      " 13  pdays      45211 non-null  int64 \n",
      " 14  previous   45211 non-null  int64 \n",
      " 15  poutcome   45211 non-null  object\n",
      " 16  y          45211 non-null  object\n",
      "dtypes: int64(7), object(10)\n",
      "memory usage: 5.9+ MB\n"
     ]
    }
   ],
   "source": [
    "df_train.info()"
   ]
  },
  {
   "cell_type": "markdown",
   "metadata": {},
   "source": [
    "### Looking at the data composition \n",
    "\n",
    "searching for any harsh anomalies within the data\n"
   ]
  },
  {
   "cell_type": "markdown",
   "metadata": {},
   "source": [
    "From Exploratory data analysis we know that the collected data doesn't show any abnormality ."
   ]
  },
  {
   "cell_type": "markdown",
   "metadata": {},
   "source": [
    "### Data Cleaning\n",
    "* Remove duplicate rows.\n",
    "* Handle missing values.\n",
    "* Correct textual inconsistencies\n",
    "* removing outliers"
   ]
  },
  {
   "cell_type": "markdown",
   "metadata": {},
   "source": [
    "### Data Transformation\n",
    "\n",
    "* convert categorical variable into one_hot vector\n",
    "* data normalization"
   ]
  },
  {
   "cell_type": "code",
   "execution_count": 4,
   "metadata": {},
   "outputs": [
    {
     "name": "stdout",
     "output_type": "stream",
     "text": [
      "<class 'pandas.core.frame.DataFrame'>\n",
      "RangeIndex: 45211 entries, 0 to 45210\n",
      "Data columns (total 17 columns):\n",
      " #   Column     Non-Null Count  Dtype \n",
      "---  ------     --------------  ----- \n",
      " 0   age        45211 non-null  int64 \n",
      " 1   job        45211 non-null  object\n",
      " 2   marital    45211 non-null  object\n",
      " 3   education  45211 non-null  object\n",
      " 4   default    45211 non-null  object\n",
      " 5   balance    45211 non-null  int64 \n",
      " 6   housing    45211 non-null  object\n",
      " 7   loan       45211 non-null  object\n",
      " 8   contact    45211 non-null  object\n",
      " 9   day        45211 non-null  int64 \n",
      " 10  month      45211 non-null  object\n",
      " 11  duration   45211 non-null  int64 \n",
      " 12  campaign   45211 non-null  int64 \n",
      " 13  pdays      45211 non-null  int64 \n",
      " 14  previous   45211 non-null  int64 \n",
      " 15  poutcome   45211 non-null  object\n",
      " 16  y          45211 non-null  object\n",
      "dtypes: int64(7), object(10)\n",
      "memory usage: 5.9+ MB\n"
     ]
    }
   ],
   "source": [
    "df_train.info()"
   ]
  },
  {
   "cell_type": "markdown",
   "metadata": {},
   "source": [
    "#### Loading configuration for preprocessing"
   ]
  },
  {
   "cell_type": "code",
   "execution_count": 5,
   "metadata": {},
   "outputs": [],
   "source": [
    "cr = ConfigRepository(config_path=\"../configs/models_config.json\")\n",
    "fe_config = cr.get_config(\"fe_config\")"
   ]
  },
  {
   "cell_type": "code",
   "execution_count": 6,
   "metadata": {},
   "outputs": [
    {
     "name": "stdout",
     "output_type": "stream",
     "text": [
      "<class 'pandas.core.frame.DataFrame'>\n",
      "RangeIndex: 44709 entries, 0 to 44708\n",
      "Data columns (total 60 columns):\n",
      " #   Column                         Non-Null Count  Dtype  \n",
      "---  ------                         --------------  -----  \n",
      " 0   num__balance                   44709 non-null  float64\n",
      " 1   num__day                       44709 non-null  float64\n",
      " 2   num__duration                  44709 non-null  float64\n",
      " 3   num__campaign                  44709 non-null  float64\n",
      " 4   cat__job_admin.                44709 non-null  float64\n",
      " 5   cat__job_blue-collar           44709 non-null  float64\n",
      " 6   cat__job_entrepreneur          44709 non-null  float64\n",
      " 7   cat__job_housemaid             44709 non-null  float64\n",
      " 8   cat__job_management            44709 non-null  float64\n",
      " 9   cat__job_retired               44709 non-null  float64\n",
      " 10  cat__job_self-employed         44709 non-null  float64\n",
      " 11  cat__job_services              44709 non-null  float64\n",
      " 12  cat__job_student               44709 non-null  float64\n",
      " 13  cat__job_technician            44709 non-null  float64\n",
      " 14  cat__job_unemployed            44709 non-null  float64\n",
      " 15  cat__job_unknown               44709 non-null  float64\n",
      " 16  cat__marital_divorced          44709 non-null  float64\n",
      " 17  cat__marital_married           44709 non-null  float64\n",
      " 18  cat__marital_single            44709 non-null  float64\n",
      " 19  cat__education_primary         44709 non-null  float64\n",
      " 20  cat__education_secondary       44709 non-null  float64\n",
      " 21  cat__education_tertiary        44709 non-null  float64\n",
      " 22  cat__education_unknown         44709 non-null  float64\n",
      " 23  cat__default_no                44709 non-null  float64\n",
      " 24  cat__default_yes               44709 non-null  float64\n",
      " 25  cat__housing_no                44709 non-null  float64\n",
      " 26  cat__housing_yes               44709 non-null  float64\n",
      " 27  cat__loan_no                   44709 non-null  float64\n",
      " 28  cat__loan_yes                  44709 non-null  float64\n",
      " 29  cat__contact_cellular          44709 non-null  float64\n",
      " 30  cat__contact_telephone         44709 non-null  float64\n",
      " 31  cat__contact_unknown           44709 non-null  float64\n",
      " 32  cat__month_apr                 44709 non-null  float64\n",
      " 33  cat__month_aug                 44709 non-null  float64\n",
      " 34  cat__month_dec                 44709 non-null  float64\n",
      " 35  cat__month_feb                 44709 non-null  float64\n",
      " 36  cat__month_jan                 44709 non-null  float64\n",
      " 37  cat__month_jul                 44709 non-null  float64\n",
      " 38  cat__month_jun                 44709 non-null  float64\n",
      " 39  cat__month_mar                 44709 non-null  float64\n",
      " 40  cat__month_may                 44709 non-null  float64\n",
      " 41  cat__month_nov                 44709 non-null  float64\n",
      " 42  cat__month_oct                 44709 non-null  float64\n",
      " 43  cat__month_sep                 44709 non-null  float64\n",
      " 44  cat__poutcome_failure          44709 non-null  float64\n",
      " 45  cat__poutcome_other            44709 non-null  float64\n",
      " 46  cat__poutcome_success          44709 non-null  float64\n",
      " 47  cat__poutcome_unknown          44709 non-null  float64\n",
      " 48  cat__pdays_category_(1, 14]    44709 non-null  float64\n",
      " 49  cat__pdays_category_(14, 30]   44709 non-null  float64\n",
      " 50  cat__pdays_category_[0, 1]     44709 non-null  float64\n",
      " 51  cat__pdays_category_nan        44709 non-null  float64\n",
      " 52  cat__age_category_middle-aged  44709 non-null  float64\n",
      " 53  cat__age_category_senior       44709 non-null  float64\n",
      " 54  cat__age_category_young        44709 non-null  float64\n",
      " 55  cat__previous_category_0       44709 non-null  float64\n",
      " 56  cat__previous_category_>5      44709 non-null  float64\n",
      " 57  cat__previous_category_[1,3]   44709 non-null  float64\n",
      " 58  cat__previous_category_[4,5]   44709 non-null  float64\n",
      " 59  y                              44709 non-null  int64  \n",
      "dtypes: float64(59), int64(1)\n",
      "memory usage: 20.5 MB\n"
     ]
    }
   ],
   "source": [
    "# Preprocessing the data\n",
    "data_train_prep = prep(\n",
    "    df_=df_train,\n",
    "    target_column='y',\n",
    "    missing_method='drop',  # or 'fill'\n",
    "    fill_value=None,\n",
    "    fill_method=None,\n",
    "    missing_threshold=0.5,\n",
    "    outlier_removal=False,\n",
    "    add_new_features=True,\n",
    "    fe_config=fe_config,\n",
    "    return_dataframe=True,\n",
    ")\n",
    "df_test\n",
    "data_train_prep.info()"
   ]
  },
  {
   "cell_type": "code",
   "execution_count": 7,
   "metadata": {},
   "outputs": [
    {
     "name": "stdout",
     "output_type": "stream",
     "text": [
      "<class 'pandas.core.frame.DataFrame'>\n",
      "RangeIndex: 4461 entries, 0 to 4460\n",
      "Data columns (total 60 columns):\n",
      " #   Column                         Non-Null Count  Dtype  \n",
      "---  ------                         --------------  -----  \n",
      " 0   num__balance                   4461 non-null   float64\n",
      " 1   num__day                       4461 non-null   float64\n",
      " 2   num__duration                  4461 non-null   float64\n",
      " 3   num__campaign                  4461 non-null   float64\n",
      " 4   cat__job_admin.                4461 non-null   float64\n",
      " 5   cat__job_blue-collar           4461 non-null   float64\n",
      " 6   cat__job_entrepreneur          4461 non-null   float64\n",
      " 7   cat__job_housemaid             4461 non-null   float64\n",
      " 8   cat__job_management            4461 non-null   float64\n",
      " 9   cat__job_retired               4461 non-null   float64\n",
      " 10  cat__job_self-employed         4461 non-null   float64\n",
      " 11  cat__job_services              4461 non-null   float64\n",
      " 12  cat__job_student               4461 non-null   float64\n",
      " 13  cat__job_technician            4461 non-null   float64\n",
      " 14  cat__job_unemployed            4461 non-null   float64\n",
      " 15  cat__job_unknown               4461 non-null   float64\n",
      " 16  cat__marital_divorced          4461 non-null   float64\n",
      " 17  cat__marital_married           4461 non-null   float64\n",
      " 18  cat__marital_single            4461 non-null   float64\n",
      " 19  cat__education_primary         4461 non-null   float64\n",
      " 20  cat__education_secondary       4461 non-null   float64\n",
      " 21  cat__education_tertiary        4461 non-null   float64\n",
      " 22  cat__education_unknown         4461 non-null   float64\n",
      " 23  cat__default_no                4461 non-null   float64\n",
      " 24  cat__default_yes               4461 non-null   float64\n",
      " 25  cat__housing_no                4461 non-null   float64\n",
      " 26  cat__housing_yes               4461 non-null   float64\n",
      " 27  cat__loan_no                   4461 non-null   float64\n",
      " 28  cat__loan_yes                  4461 non-null   float64\n",
      " 29  cat__contact_cellular          4461 non-null   float64\n",
      " 30  cat__contact_telephone         4461 non-null   float64\n",
      " 31  cat__contact_unknown           4461 non-null   float64\n",
      " 32  cat__month_apr                 4461 non-null   float64\n",
      " 33  cat__month_aug                 4461 non-null   float64\n",
      " 34  cat__month_dec                 4461 non-null   float64\n",
      " 35  cat__month_feb                 4461 non-null   float64\n",
      " 36  cat__month_jan                 4461 non-null   float64\n",
      " 37  cat__month_jul                 4461 non-null   float64\n",
      " 38  cat__month_jun                 4461 non-null   float64\n",
      " 39  cat__month_mar                 4461 non-null   float64\n",
      " 40  cat__month_may                 4461 non-null   float64\n",
      " 41  cat__month_nov                 4461 non-null   float64\n",
      " 42  cat__month_oct                 4461 non-null   float64\n",
      " 43  cat__month_sep                 4461 non-null   float64\n",
      " 44  cat__poutcome_failure          4461 non-null   float64\n",
      " 45  cat__poutcome_other            4461 non-null   float64\n",
      " 46  cat__poutcome_success          4461 non-null   float64\n",
      " 47  cat__poutcome_unknown          4461 non-null   float64\n",
      " 48  cat__pdays_category_(1, 14]    4461 non-null   float64\n",
      " 49  cat__pdays_category_(14, 30]   4461 non-null   float64\n",
      " 50  cat__pdays_category_[0, 1]     4461 non-null   float64\n",
      " 51  cat__pdays_category_nan        4461 non-null   float64\n",
      " 52  cat__age_category_middle-aged  4461 non-null   float64\n",
      " 53  cat__age_category_senior       4461 non-null   float64\n",
      " 54  cat__age_category_young        4461 non-null   float64\n",
      " 55  cat__previous_category_0       4461 non-null   float64\n",
      " 56  cat__previous_category_>5      4461 non-null   float64\n",
      " 57  cat__previous_category_[1,3]   4461 non-null   float64\n",
      " 58  cat__previous_category_[4,5]   4461 non-null   float64\n",
      " 59  y                              4461 non-null   int64  \n",
      "dtypes: float64(59), int64(1)\n",
      "memory usage: 2.0 MB\n"
     ]
    }
   ],
   "source": [
    "data_test_prep = prep(\n",
    "    df_=df_test,\n",
    "    target_column='y',\n",
    "    missing_method='drop',  # or 'fill'\n",
    "    fill_value=None,\n",
    "    fill_method=None,\n",
    "    missing_threshold=0.5,\n",
    "    outlier_removal=False,\n",
    "    add_new_features=True,\n",
    "    fe_config=fe_config,\n",
    "    return_dataframe=True,\n",
    ")\n",
    "\n",
    "data_test_prep.info()"
   ]
  },
  {
   "cell_type": "code",
   "execution_count": 8,
   "metadata": {},
   "outputs": [],
   "source": [
    "y_train = data_train_prep['y']\n",
    "X_train = data_train_prep.drop(columns = ['y'])"
   ]
  },
  {
   "cell_type": "code",
   "execution_count": 9,
   "metadata": {},
   "outputs": [],
   "source": [
    "X_test = data_test_prep.drop(columns = ['y'])\n",
    "\n",
    "y_test = data_test_prep['y']"
   ]
  },
  {
   "cell_type": "code",
   "execution_count": null,
   "metadata": {},
   "outputs": [
    {
     "name": "stderr",
     "output_type": "stream",
     "text": [
      "Models:   0%|          | 0/4 [00:00<?, ?model/s]2025-04-29 22:48:59 — INFO — Training LogisticRegression (1/4)…\n"
     ]
    },
    {
     "name": "stdout",
     "output_type": "stream",
     "text": [
      "n_iterations: 8\n",
      "n_required_iterations: 8\n",
      "n_possible_iterations: 8\n",
      "min_resources_: 20\n",
      "max_resources_: 44709\n",
      "aggressive_elimination: False\n",
      "factor: 3\n",
      "----------\n",
      "iter: 0\n",
      "n_candidates: 2235\n",
      "n_resources: 20\n",
      "Fitting 5 folds for each of 2235 candidates, totalling 11175 fits\n"
     ]
    },
    {
     "name": "stderr",
     "output_type": "stream",
     "text": [
      "c:\\Users\\mehri\\AppData\\Local\\Programs\\Python\\Python312\\Lib\\site-packages\\sklearn\\model_selection\\_search.py:1103: UserWarning: One or more of the test scores are non-finite: [nan nan nan ... nan nan nan]\n",
      "  warnings.warn(\n"
     ]
    },
    {
     "name": "stdout",
     "output_type": "stream",
     "text": [
      "----------\n",
      "iter: 1\n",
      "n_candidates: 745\n",
      "n_resources: 60\n",
      "Fitting 5 folds for each of 745 candidates, totalling 3725 fits\n"
     ]
    },
    {
     "name": "stderr",
     "output_type": "stream",
     "text": [
      "c:\\Users\\mehri\\AppData\\Local\\Programs\\Python\\Python312\\Lib\\site-packages\\sklearn\\model_selection\\_search.py:1103: UserWarning: One or more of the test scores are non-finite: [       nan        nan        nan ... 0.73709596 0.5        0.72459596]\n",
      "  warnings.warn(\n"
     ]
    },
    {
     "name": "stdout",
     "output_type": "stream",
     "text": [
      "----------\n",
      "iter: 2\n",
      "n_candidates: 249\n",
      "n_resources: 180\n",
      "Fitting 5 folds for each of 249 candidates, totalling 1245 fits\n"
     ]
    },
    {
     "name": "stderr",
     "output_type": "stream",
     "text": [
      "c:\\Users\\mehri\\AppData\\Local\\Programs\\Python\\Python312\\Lib\\site-packages\\sklearn\\model_selection\\_search.py:1103: UserWarning: One or more of the test scores are non-finite: [       nan        nan        nan ... 0.83015624 0.83485396 0.83003035]\n",
      "  warnings.warn(\n"
     ]
    },
    {
     "name": "stdout",
     "output_type": "stream",
     "text": [
      "----------\n",
      "iter: 3\n",
      "n_candidates: 83\n",
      "n_resources: 540\n",
      "Fitting 5 folds for each of 83 candidates, totalling 415 fits\n"
     ]
    },
    {
     "name": "stderr",
     "output_type": "stream",
     "text": [
      "c:\\Users\\mehri\\AppData\\Local\\Programs\\Python\\Python312\\Lib\\site-packages\\sklearn\\model_selection\\_search.py:1103: UserWarning: One or more of the test scores are non-finite: [       nan        nan        nan ... 0.87136841 0.87255613 0.87974982]\n",
      "  warnings.warn(\n"
     ]
    },
    {
     "name": "stdout",
     "output_type": "stream",
     "text": [
      "----------\n",
      "iter: 4\n",
      "n_candidates: 28\n",
      "n_resources: 1620\n",
      "Fitting 5 folds for each of 28 candidates, totalling 140 fits\n"
     ]
    },
    {
     "name": "stderr",
     "output_type": "stream",
     "text": [
      "c:\\Users\\mehri\\AppData\\Local\\Programs\\Python\\Python312\\Lib\\site-packages\\sklearn\\model_selection\\_search.py:1103: UserWarning: One or more of the test scores are non-finite: [       nan        nan        nan ... 0.90664867 0.90592361 0.90603498]\n",
      "  warnings.warn(\n"
     ]
    },
    {
     "name": "stdout",
     "output_type": "stream",
     "text": [
      "----------\n",
      "iter: 5\n",
      "n_candidates: 10\n",
      "n_resources: 4860\n",
      "Fitting 5 folds for each of 10 candidates, totalling 50 fits\n"
     ]
    },
    {
     "name": "stderr",
     "output_type": "stream",
     "text": [
      "c:\\Users\\mehri\\AppData\\Local\\Programs\\Python\\Python312\\Lib\\site-packages\\sklearn\\model_selection\\_search.py:1103: UserWarning: One or more of the test scores are non-finite: [       nan        nan        nan ... 0.89521027 0.89530602 0.89537758]\n",
      "  warnings.warn(\n"
     ]
    },
    {
     "name": "stdout",
     "output_type": "stream",
     "text": [
      "----------\n",
      "iter: 6\n",
      "n_candidates: 4\n",
      "n_resources: 14580\n",
      "Fitting 5 folds for each of 4 candidates, totalling 20 fits\n"
     ]
    },
    {
     "name": "stderr",
     "output_type": "stream",
     "text": [
      "c:\\Users\\mehri\\AppData\\Local\\Programs\\Python\\Python312\\Lib\\site-packages\\sklearn\\model_selection\\_search.py:1103: UserWarning: One or more of the test scores are non-finite: [       nan        nan        nan ... 0.90550708 0.90550441 0.90550701]\n",
      "  warnings.warn(\n"
     ]
    },
    {
     "name": "stdout",
     "output_type": "stream",
     "text": [
      "----------\n",
      "iter: 7\n",
      "n_candidates: 2\n",
      "n_resources: 43740\n",
      "Fitting 5 folds for each of 2 candidates, totalling 10 fits\n"
     ]
    },
    {
     "name": "stderr",
     "output_type": "stream",
     "text": [
      "c:\\Users\\mehri\\AppData\\Local\\Programs\\Python\\Python312\\Lib\\site-packages\\sklearn\\model_selection\\_search.py:1103: UserWarning: One or more of the test scores are non-finite: [       nan        nan        nan ... 0.90550701 0.90698025 0.90701138]\n",
      "  warnings.warn(\n",
      "2025/04/29 22:51:39 INFO mlflow.tracking.fluent: Experiment with name 'Bank_Marketing_Models' does not exist. Creating a new experiment.\n",
      "2025/04/29 22:51:52 WARNING mlflow.models.model: Model logged without a signature and input example. Please set `input_example` parameter when logging the model to auto infer the model signature.\n",
      "Successfully registered model 'BankMarketing_LogReg'.\n",
      "Created version '1' of model 'BankMarketing_LogReg'.\n",
      "2025-04-29 22:51:52 — INFO — Evaluating LogisticRegression on test set…\n",
      "Models:  25%|██▌       | 1/4 [02:52<08:38, 172.98s/model]2025-04-29 22:51:52 — INFO — Training RandomForest (2/4)…\n"
     ]
    },
    {
     "name": "stdout",
     "output_type": "stream",
     "text": [
      "Model registered: BankMarketing_LogReg\n",
      "n_iterations: 8\n",
      "n_required_iterations: 8\n",
      "n_possible_iterations: 8\n",
      "min_resources_: 20\n",
      "max_resources_: 44709\n",
      "aggressive_elimination: False\n",
      "factor: 3\n",
      "----------\n",
      "iter: 0\n",
      "n_candidates: 2235\n",
      "n_resources: 20\n",
      "Fitting 5 folds for each of 2235 candidates, totalling 11175 fits\n"
     ]
    }
   ],
   "source": [
    "results = train_compare_models(X_train=X_train, y_train=y_train, X_test=X_test, y_test=y_test)"
   ]
  },
  {
   "cell_type": "code",
   "execution_count": null,
   "metadata": {},
   "outputs": [],
   "source": []
  }
 ],
 "metadata": {
  "kernelspec": {
   "display_name": "Python_ML (.env)",
   "language": "python",
   "name": "machinelearningenvironment"
  },
  "language_info": {
   "codemirror_mode": {
    "name": "ipython",
    "version": 3
   },
   "file_extension": ".py",
   "mimetype": "text/x-python",
   "name": "python",
   "nbconvert_exporter": "python",
   "pygments_lexer": "ipython3",
   "version": "3.12.5"
  }
 },
 "nbformat": 4,
 "nbformat_minor": 2
}
